{
 "cells": [
  {
   "cell_type": "markdown",
   "id": "d3a63f76-a724-4ba1-9387-f84a47e45c9f",
   "metadata": {},
   "source": [
    "## Easy (+0.1)"
   ]
  },
  {
   "cell_type": "code",
   "execution_count": 1,
   "id": "c898488d-4c0a-4555-b933-697f59fbd490",
   "metadata": {},
   "outputs": [],
   "source": [
    "def func(a: list):\n",
    "    size = len(a)\n",
    "    # finding mean\n",
    "    mean = sum(a) / size\n",
    "\n",
    "    # finding median\n",
    "    a = sorted(a)\n",
    "    if size % 2 == 1:\n",
    "        median = a[size // 2]\n",
    "    else:\n",
    "        median = a[size // 2 - 1] + a[size // 2]\n",
    "        median /= 2\n",
    "\n",
    "    # finding mode\n",
    "    b = [0 for _ in range(max(a) + 1)]\n",
    "    for i in a:\n",
    "        b[i] += 1\n",
    "    mode = b.index(max(b))\n",
    "\n",
    "    # filling the dictionary\n",
    "    res = dict()\n",
    "    res[\"mean\"] = format(mean, '.4f')\n",
    "    res[\"median\"] = median\n",
    "    res[\"mode\"] = mode\n",
    "    \n",
    "    return res"
   ]
  },
  {
   "cell_type": "code",
   "execution_count": 2,
   "id": "3672719b-6ad3-4c99-9ed1-ad6179949af6",
   "metadata": {},
   "outputs": [
    {
     "data": {
      "text/plain": [
       "{'mean': '3.4286', 'median': 3, 'mode': 1}"
      ]
     },
     "execution_count": 2,
     "metadata": {},
     "output_type": "execute_result"
    }
   ],
   "source": [
    "func([0, 1, 1, 10, 5, 4, 3])"
   ]
  },
  {
   "cell_type": "markdown",
   "id": "baf38fa6-82a9-4666-a8f1-3c7dca48d93c",
   "metadata": {},
   "source": [
    "## Medium (+0.4)"
   ]
  },
  {
   "cell_type": "code",
   "execution_count": 3,
   "id": "661904df-0b6a-40c5-ad24-85332d788e0a",
   "metadata": {},
   "outputs": [],
   "source": [
    "def parse_csv(file_content: str) -> list[dict]:\n",
    "    with open(file_content, \"r\") as f:\n",
    "        a = list()\n",
    "        for x in f.readlines():\n",
    "            x = x.replace(', ', '; ') # crutch\n",
    "            a.append(x.rstrip().split(','))\n",
    "        d = [{a[0][j]: a[i][j] for j in range(len(a[i]))} for i in range(len(a))]\n",
    "        d.pop(0)\n",
    "    return d"
   ]
  },
  {
   "cell_type": "code",
   "execution_count": 4,
   "id": "84f79abe-910f-4ef2-9c82-a75b8b8e1fb2",
   "metadata": {},
   "outputs": [
    {
     "name": "stdout",
     "output_type": "stream",
     "text": [
      "8 - Broodmother\n"
     ]
    }
   ],
   "source": [
    "res = parse_csv(\"dota_hero_stats.csv\")\n",
    "maximum = -1\n",
    "name = \"\"\n",
    "\n",
    "for p in res:\n",
    "    legs = int(p['legs'])\n",
    "    if legs > maximum:\n",
    "        maximum = legs\n",
    "        name = p.get('localized_name')\n",
    "print(f'{maximum} - {name}')"
   ]
  }
 ],
 "metadata": {
  "kernelspec": {
   "display_name": "Python 3 (ipykernel)",
   "language": "python",
   "name": "python3"
  },
  "language_info": {
   "codemirror_mode": {
    "name": "ipython",
    "version": 3
   },
   "file_extension": ".py",
   "mimetype": "text/x-python",
   "name": "python",
   "nbconvert_exporter": "python",
   "pygments_lexer": "ipython3",
   "version": "3.10.5"
  }
 },
 "nbformat": 4,
 "nbformat_minor": 5
}
